{
 "cells": [
  {
   "cell_type": "markdown",
   "metadata": {},
   "source": [
    "# The First Step: Data Pre-processing\n",
    "\n",
    "In this notebook, we would like to examine the raw data we have currently, devise a plan to transform the data into a desirable shape that we will work with for the rest of the project, and execute this plan."
   ]
  },
  {
   "cell_type": "code",
   "execution_count": 1,
   "metadata": {},
   "outputs": [],
   "source": [
    "# imports\n",
    "import pandas"
   ]
  },
  {
   "cell_type": "markdown",
   "metadata": {},
   "source": [
    "## Examining Our Raw Data: what does it look like?\n",
    "Inside ```data/raw``` are three folders titled ```2022-23```, ```2023-24```, and ```2024-25```. Each of these folders contains all the data in the corresponding Premier League season (as well as past seasons). It is structured as follows:\n",
    "\n",
    "+ season/cleaned_players.csv : The overview stats for the season\n",
    "+ season/gws/gw_number.csv : GW-specific stats for the particular season\n",
    "+ season/gws/merged_gws.csv : GW-by-GW stats for each player in a single file\n",
    "+ season/players/player_name/gws.csv : GW-by-GW stats for that specific player\n",
    "+ season/players/player_name/history.csv : Prior seasons history stats for that specific player."
   ]
  },
  {
   "cell_type": "code",
   "execution_count": 2,
   "metadata": {},
   "outputs": [],
   "source": [
    "#TODO 1: Use pandas to visualize these csv tables as dataframes and examine their structures"
   ]
  },
  {
   "cell_type": "markdown",
   "metadata": {},
   "source": [
    "## Data Selection: what data will we need in our project?\n",
    "It is probably the case that we don't need all of the data we currently have, but just a subset of them. Let's pick them out.\n",
    "\n",
    "**TODO 2**: Pick out parts of the raw data that we will need in our project."
   ]
  },
  {
   "cell_type": "markdown",
   "metadata": {},
   "source": [
    "### Extract & Transform: what do we want our data (that we will be working with) to look like?\n",
    "Now we know exactly what data we need. We should figure out what shape we want it to be in before getting to work.\n",
    "\n",
    "**TODO 3**: Based on the data available to us, draft a list of tables (and columns) that we might want to transform our data into."
   ]
  }
 ],
 "metadata": {
  "kernelspec": {
   "display_name": "xfpl",
   "language": "python",
   "name": "python3"
  },
  "language_info": {
   "codemirror_mode": {
    "name": "ipython",
    "version": 3
   },
   "file_extension": ".py",
   "mimetype": "text/x-python",
   "name": "python",
   "nbconvert_exporter": "python",
   "pygments_lexer": "ipython3",
   "version": "3.10.14"
  }
 },
 "nbformat": 4,
 "nbformat_minor": 2
}

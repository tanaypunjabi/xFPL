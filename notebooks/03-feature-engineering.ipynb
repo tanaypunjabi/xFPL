{
 "cells": [
  {
   "cell_type": "markdown",
   "metadata": {},
   "source": [
    "# Feature Engineering\n",
    "\n",
    "As mentioned in the end of the last notebook, we want to enrich our dataset (which currently consists only of single-gameweek data) by adding time-based cumulative features which can provide greater insight regarding player form.\n",
    "\n",
    "Before we begin, let's look at the features we currently have:"
   ]
  },
  {
   "cell_type": "code",
   "execution_count": 1,
   "metadata": {},
   "outputs": [],
   "source": [
    "# imports\n",
    "import pandas as pd"
   ]
  },
  {
   "cell_type": "code",
   "execution_count": 2,
   "metadata": {},
   "outputs": [
    {
     "data": {
      "text/plain": [
       "Index(['element', 'name', 'position', 'GW', 'total_points', 'value', 'minutes',\n",
       "       'expected_goals', 'expected_assists', 'expected_goals_conceded',\n",
       "       'goals_scored', 'assists', 'goals_conceded', 'clean_sheets',\n",
       "       'ict_index', 'fixture', 'was_home', 'fixture_difficulty'],\n",
       "      dtype='object')"
      ]
     },
     "execution_count": 2,
     "metadata": {},
     "output_type": "execute_result"
    }
   ],
   "source": [
    "# current features\n",
    "processed_24_25 = pd.read_csv('../data/processed/2024-25/processed_merged_gws.csv')\n",
    "current_features = processed_24_25.columns\n",
    "\n",
    "current_features"
   ]
  },
  {
   "cell_type": "markdown",
   "metadata": {},
   "source": [
    "Now, let's identify the features that we can potentially engineer and enhance:\n",
    "- **total_points**: this is the player's individual gameweek score. We can enhance this feature by taking the player's total or average gameweek score over the past few weeks.\n",
    "- We can do the same for **minutes played**, **goals and assists**, **expected goals and assists**, **goals conceded**, **expected goals conceded**, and **clean sheets**.\n",
    "\n",
    "We will choose a sliding time window of **3 gameweeks** as an initial attempt."
   ]
  },
  {
   "cell_type": "markdown",
   "metadata": {},
   "source": [
    "## Features to be added\n",
    "\n",
    "- **average_score_last_3**:\n",
    "- **average_minutes_last_3**:\n",
    "- **goals_last_3**:\n",
    "- **assists_last_3**:\n",
    "- **xG_last_3**:\n",
    "- **xA_last_3**:\n",
    "- **goals_conceded_last_3**:\n",
    "- **xGC_last_3**:\n",
    "- **clean_sheets_last_3**:"
   ]
  }
 ],
 "metadata": {
  "kernelspec": {
   "display_name": "xfpl",
   "language": "python",
   "name": "python3"
  },
  "language_info": {
   "codemirror_mode": {
    "name": "ipython",
    "version": 3
   },
   "file_extension": ".py",
   "mimetype": "text/x-python",
   "name": "python",
   "nbconvert_exporter": "python",
   "pygments_lexer": "ipython3",
   "version": "3.10.14"
  }
 },
 "nbformat": 4,
 "nbformat_minor": 2
}
